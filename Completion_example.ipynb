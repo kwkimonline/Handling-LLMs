{
 "cells": [
  {
   "attachments": {},
   "cell_type": "markdown",
   "metadata": {},
   "source": [
    "## Examples of using of OpenAI's GPT through the API\n",
    "\n",
    "### Section: Completion\n",
    "\n",
    "#### Writer\n",
    "    Kunwoong Kim\n",
    "\n",
    "#### Created / Last edited\n",
    "    2023.06.23 / 2023.06.23\n",
    "\n",
    "#### Notes\n",
    "    Please be aware of the billing associated with using OpenAI's API!\n",
    "    This notebook is written based on:\n",
    "\n",
    "<https://www.indiehackers.com/post/how-to-fine-tune-a-gpt-3-model-using-python-with-your-own-data-for-improved-performance-198dfe51d6>\n",
    "\n",
    "<https://www.articulatepython.com/blog/finetune-openai-models>\n",
    "\n",
    "<https://www.datacamp.com/tutorial/fine-tuning-gpt-3-using-the-open-ai-api-and-python>\n",
    "\n",
    "<https://passwd.tistory.com/entry/Python-OpenAI-API-%EC%82%AC%EC%9A%A9%ED%95%98%EA%B8%B0>"
   ]
  },
  {
   "cell_type": "code",
   "execution_count": 1,
   "metadata": {},
   "outputs": [],
   "source": [
    "import openai\n",
    "import os"
   ]
  },
  {
   "cell_type": "code",
   "execution_count": 2,
   "metadata": {},
   "outputs": [],
   "source": [
    "\"\"\"\"\"\"\"\"\"\"\"\"\"\"\"\"\"\"\"\"\"\n",
    "OpenAI API: create your API key\n",
    "\"\"\"\"\"\"\"\"\"\"\"\"\"\"\"\"\"\"\"\"\"\n",
    "# API key\n",
    "openai.api_key = 'YOUR-API-KEY' # for sharing"
   ]
  },
  {
   "cell_type": "code",
   "execution_count": 5,
   "metadata": {},
   "outputs": [
    {
     "name": "stdout",
     "output_type": "stream",
     "text": [
      "The last prompt: Where was it played?\n",
      "Response: The 1999 Korean Series was played at Cheongju Baseball Stadium in Cheongju, South Korea.\n"
     ]
    },
    {
     "data": {
      "text/plain": [
       "' [2] DIY '"
      ]
     },
     "execution_count": 5,
     "metadata": {},
     "output_type": "execute_result"
    }
   ],
   "source": [
    "\"\"\"\"\"\"\"\"\"\"\"\"\"\"\"\"\"\"\"\"\"\n",
    "ChatGPT usage examples\n",
    "\"\"\"\"\"\"\"\"\"\"\"\"\"\"\"\"\"\"\"\"\"\n",
    "\n",
    "\"\"\" [1] Chat completion \"\"\"\n",
    "example_messages = [\n",
    "    {\"role\": \"system\", \"content\": \"You are a kind assistant.\"},\n",
    "    {\"role\": \"user\", \"content\": \"Who won the Korean Series in 1999?\"},\n",
    "    {\"role\": \"assistant\", \"content\": \"Hanhwa Eagles won the Korean Series in 1999.\"},\n",
    "    {\"role\": \"user\", \"content\": \"Where was it played?\"}\n",
    "    ]\n",
    "completion = openai.ChatCompletion.create(\n",
    "    model=\"gpt-3.5-turbo\",\n",
    "    messages=example_messages\n",
    "    )\n",
    "response = completion.choices[0].message.content\n",
    "print(f'The last prompt: {example_messages[-1][\"content\"]}')\n",
    "print(f'Response: {response}')\n",
    "\n",
    "\"\"\" [2] DIY \"\"\"\n",
    "# TODO: Do it yourself"
   ]
  },
  {
   "cell_type": "code",
   "execution_count": null,
   "metadata": {},
   "outputs": [],
   "source": []
  }
 ],
 "metadata": {
  "kernelspec": {
   "display_name": "latest",
   "language": "python",
   "name": "python3"
  },
  "language_info": {
   "codemirror_mode": {
    "name": "ipython",
    "version": 3
   },
   "file_extension": ".py",
   "mimetype": "text/x-python",
   "name": "python",
   "nbconvert_exporter": "python",
   "pygments_lexer": "ipython3",
   "version": "3.9.15"
  },
  "orig_nbformat": 4
 },
 "nbformat": 4,
 "nbformat_minor": 2
}
